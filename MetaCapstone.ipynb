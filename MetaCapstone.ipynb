{
 "cells": [
  {
   "cell_type": "code",
   "execution_count": 1,
   "id": "102b1f61-043c-4e24-a12d-ead4b0362684",
   "metadata": {},
   "outputs": [
    {
     "name": "stdout",
     "output_type": "stream",
     "text": [
      "<mysql.connector.connection_cext.CMySQLConnection object at 0x0000019FDD655720>\n"
     ]
    }
   ],
   "source": [
    "import mysql.connector as connector\n",
    "from mysql.connector import errorcode\n",
    "\n",
    "\n",
    "try:\n",
    "    connection = connector.connect(user=\"newuser\", password=\"newuser\")\n",
    "    print(connection)\n",
    "except connector.Error as err:\n",
    "    print(\"no\")\n",
    "    if err.errno == errorcode.ER_ACCESS_DENIED_ERROR:\n",
    "        print(\"connection user or password are incorrect\")\n",
    "    elif err.errno == errorcode.ER_BAD_DB_ERROR:\n",
    "        print(\"database does not exist\")\n",
    "    else:\n",
    "        print(err)\n",
    "\n",
    "cursor = connection.cursor()\n",
    "\n",
    "cursor.execute(\"USE mydb\")"
   ]
  },
  {
   "cell_type": "code",
   "execution_count": 2,
   "id": "33eb089b-b18d-44ad-a012-ec502582eafe",
   "metadata": {},
   "outputs": [
    {
     "name": "stdout",
     "output_type": "stream",
     "text": [
      "('compliance',)\n",
      "('information_schema',)\n",
      "('little_lemon_db',)\n",
      "('littlelemondm',)\n",
      "('mydb',)\n",
      "('mysql',)\n",
      "('performance_schema',)\n",
      "('sakila',)\n",
      "('social',)\n",
      "('sys',)\n",
      "('world',)\n"
     ]
    }
   ],
   "source": [
    "cursor.execute(\"SHOW DATABASES\")\n",
    "for database in cursor:\n",
    "    print(database)"
   ]
  },
  {
   "cell_type": "code",
   "execution_count": 3,
   "id": "6dc6906a-0297-4aa4-8199-173065a5a2c2",
   "metadata": {},
   "outputs": [],
   "source": [
    "Total_Query = \"\"\" SELECT Orders.TotalCost, Customer.ContactDetails \n",
    "FROM Orders INNER JOIN Customers ON Orders.CustomerID = Customer.CustomerID\n",
    "WHERE TotalCost > 60; \"\"\""
   ]
  },
  {
   "cell_type": "code",
   "execution_count": null,
   "id": "27f8d759-5ce3-42cb-95d2-9b161d4d5329",
   "metadata": {},
   "outputs": [],
   "source": [
    "cursor.execute(Total_Query)"
   ]
  },
  {
   "cell_type": "code",
   "execution_count": null,
   "id": "369b959d-8d97-4555-9993-fcc63cd004bb",
   "metadata": {},
   "outputs": [],
   "source": []
  }
 ],
 "metadata": {
  "kernelspec": {
   "display_name": "Python 3 (ipykernel)",
   "language": "python",
   "name": "python3"
  },
  "language_info": {
   "codemirror_mode": {
    "name": "ipython",
    "version": 3
   },
   "file_extension": ".py",
   "mimetype": "text/x-python",
   "name": "python",
   "nbconvert_exporter": "python",
   "pygments_lexer": "ipython3",
   "version": "3.10.0"
  }
 },
 "nbformat": 4,
 "nbformat_minor": 5
}
